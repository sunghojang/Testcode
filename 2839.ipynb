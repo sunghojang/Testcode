{
 "cells": [
  {
   "cell_type": "code",
   "execution_count": 63,
   "metadata": {},
   "outputs": [
    {
     "name": "stdout",
     "output_type": "stream",
     "text": [
      "12\n",
      "4\n"
     ]
    }
   ],
   "source": [
    "indata = int(input())\n",
    "temp = 0\n",
    "cnt = 0\n",
    "\n",
    "while(indata >= 15):\n",
    "    if(indata%5 == 0):\n",
    "        cnt = int(indata/5)\n",
    "        indata = 0\n",
    "        break\n",
    "    elif(indata<15):\n",
    "        break\n",
    "    else:\n",
    "        indata -= 5\n",
    "        cnt +=1\n",
    "        \n",
    "if(indata == 14):\n",
    "    cnt += 4\n",
    "elif(indata == 13):\n",
    "    cnt += 3\n",
    "elif(indata == 12):\n",
    "    cnt += 4\n",
    "elif(indata == 11):\n",
    "    cnt += 3\n",
    "elif(indata == 10):\n",
    "    cnt += 2\n",
    "elif(indata == 9):\n",
    "    cnt += 3\n",
    "elif(indata == 8):\n",
    "    cnt += 2\n",
    "elif(indata == 6):\n",
    "    cnt += 2\n",
    "elif(indata == 5):\n",
    "    cnt += 1\n",
    "elif(indata == 3):\n",
    "    cnt += 1\n",
    "elif(indata == 0):\n",
    "    cnt += 0\n",
    "else:\n",
    "    cnt = -1\n",
    "print(cnt)\n"
   ]
  },
  {
   "cell_type": "code",
   "execution_count": 66,
   "metadata": {},
   "outputs": [
    {
     "name": "stdout",
     "output_type": "stream",
     "text": [
      "13\n",
      "3\n"
     ]
    }
   ],
   "source": [
    "n = int(input())\n",
    "F = n//5\n",
    "n%=5\n",
    "T = 0\n",
    "while F>=0:\n",
    "    if n%3 == 0:\n",
    "        T = n//3\n",
    "        n = n%3\n",
    "        break\n",
    "    F-=1\n",
    "    n+=5\n",
    "print((n==0) and (F+T) or -1)\n",
    "\n"
   ]
  },
  {
   "cell_type": "code",
   "execution_count": 16,
   "metadata": {},
   "outputs": [
    {
     "name": "stdout",
     "output_type": "stream",
     "text": [
      "91\n",
      "20\n"
     ]
    }
   ],
   "source": [
    "temp = int(input())\n",
    "indata = 0\n",
    "cnt = 0\n",
    "\n",
    "indata = temp % 15\n",
    "if(temp>7 and indata ==7):\n",
    "    indata = 12\n",
    "if(temp>4 and indata ==4):\n",
    "    indata = 14\n",
    "if(temp>2 and indata ==2):\n",
    "    indata = 12\n",
    "if(temp>1 and indata ==1):\n",
    "    indata = 12\n",
    "cnt = temp//5\n",
    "\n",
    "if(indata == 14):\n",
    "    cnt += 2\n",
    "elif(indata == 13):\n",
    "    cnt += 1\n",
    "elif(indata == 12):\n",
    "    cnt += 2\n",
    "elif(indata == 11):\n",
    "    cnt += 1\n",
    "elif(indata == 10):\n",
    "    cnt += 0\n",
    "elif(indata == 9):\n",
    "    cnt += 2\n",
    "elif(indata == 8):\n",
    "    cnt += 1\n",
    "elif(indata == 6):\n",
    "    cnt += 1\n",
    "elif(indata == 5):\n",
    "    cnt += 0\n",
    "elif(indata == 3):\n",
    "    cnt += 1\n",
    "elif(indata == 0):\n",
    "    cnt = temp//5\n",
    "else:\n",
    "    cnt = -1\n",
    "print(cnt)\n"
   ]
  },
  {
   "cell_type": "code",
   "execution_count": null,
   "metadata": {},
   "outputs": [],
   "source": []
  }
 ],
 "metadata": {
  "kernelspec": {
   "display_name": "Python 3",
   "language": "python",
   "name": "python3"
  },
  "language_info": {
   "codemirror_mode": {
    "name": "ipython",
    "version": 3
   },
   "file_extension": ".py",
   "mimetype": "text/x-python",
   "name": "python",
   "nbconvert_exporter": "python",
   "pygments_lexer": "ipython3",
   "version": "3.6.5"
  }
 },
 "nbformat": 4,
 "nbformat_minor": 2
}
